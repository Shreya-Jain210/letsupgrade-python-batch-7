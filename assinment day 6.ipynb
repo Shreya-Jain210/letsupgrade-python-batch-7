{
 "cells": [
  {
   "cell_type": "markdown",
   "metadata": {},
   "source": [
    "# ASSIGNMENT DAY 6"
   ]
  },
  {
   "cell_type": "markdown",
   "metadata": {},
   "source": [
    "QUESTION 1"
   ]
  },
  {
   "cell_type": "code",
   "execution_count": 4,
   "metadata": {},
   "outputs": [
    {
     "name": "stdout",
     "output_type": "stream",
     "text": [
      "account owner name Riya\n",
      "account balance 100\n",
      "Deposit Accepted, your balance is  150\n",
      "Withdrawal Accepted, your balance is  75\n",
      "Funds Unavailable!\n"
     ]
    }
   ],
   "source": [
    "class Account:\n",
    "    \n",
    "    def __init__(self, owner, balance):\n",
    "        self.owner = owner\n",
    "        self.balance = balance\n",
    "    \n",
    "    def getDetails(self):\n",
    "        print(\"account owner name\",self.owner)\n",
    "        print(\"account balance\",self.balance)\n",
    "        \n",
    "    def deposit(self, dp_money):\n",
    "        self.balance += dp_money\n",
    "        print(\"Deposit Accepted, your balance is \",self.balance)\n",
    "    \n",
    "    def withdraw(self, wd_money):\n",
    "        if wd_money > self.balance:\n",
    "            print(\"Funds Unavailable!\")\n",
    "        else:\n",
    "            self.balance -= wd_money\n",
    "            print(\"Withdrawal Accepted, your balance is \",self.balance)\n",
    "            \n",
    "acct1 = Account(\"Riya\",100)\n",
    "acct1.getDetails()\n",
    "acct1.deposit(50)\n",
    "acct1.withdraw(75)\n",
    "acct1.withdraw(500)"
   ]
  },
  {
   "cell_type": "code",
   "execution_count": 28,
   "metadata": {},
   "outputs": [
    {
     "name": "stdout",
     "output_type": "stream",
     "text": [
      "the volume of given cone is  12.566370614359172\n",
      "THe surface area of cone is  35.22071741263713\n"
     ]
    }
   ],
   "source": [
    "import math \n",
    "pi = math.pi \n",
    "\n",
    "class cone():\n",
    "    def __init__(self,radius,height):\n",
    "        self.radius = radius\n",
    "        self.height = height\n",
    "        \n",
    "    def volume(self): \n",
    "        vol=(1 / 3) * pi * (self.radius**2) * self.height\n",
    "        print(\"the volume of given cone is \",vol)\n",
    "    \n",
    "    def surfacearea(self):\n",
    "        side=(((self.radius**2) + (self.height**2))**0.5)\n",
    "        surarea=(pi * self.radius) * (side + self.radius)\n",
    "        print(\"THe surface area of cone is \",surarea)\n",
    "        \n",
    "cne1=cone(2,3)\n",
    "cne1.volume()\n",
    "cne1.surfacearea()\n",
    "    "
   ]
  }
 ],
 "metadata": {
  "kernelspec": {
   "display_name": "Python 3",
   "language": "python",
   "name": "python3"
  },
  "language_info": {
   "codemirror_mode": {
    "name": "ipython",
    "version": 3
   },
   "file_extension": ".py",
   "mimetype": "text/x-python",
   "name": "python",
   "nbconvert_exporter": "python",
   "pygments_lexer": "ipython3",
   "version": "3.8.3"
  }
 },
 "nbformat": 4,
 "nbformat_minor": 4
}
