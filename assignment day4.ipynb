{
 "cells": [
  {
   "cell_type": "markdown",
   "metadata": {},
   "source": [
    "# ASSIGNMENT DAY 4"
   ]
  },
  {
   "cell_type": "markdown",
   "metadata": {},
   "source": [
    "# QUESTION 1"
   ]
  },
  {
   "cell_type": "code",
   "execution_count": 1,
   "metadata": {},
   "outputs": [
    {
     "name": "stdout",
     "output_type": "stream",
     "text": [
      "The first armstrong number is-  1741725\n"
     ]
    }
   ],
   "source": [
    "lower = 1042000\n",
    "upper = 702648265\n",
    "\n",
    "for num in range(lower, upper + 1):\n",
    "    \n",
    "    order = len(str(num))\n",
    "    \n",
    "    s = 0\n",
    "    tmp = num\n",
    "    while tmp>0:\n",
    "        digit = tmp % 10\n",
    "        s += digit ** order\n",
    "        tmp //= 10\n",
    "\n",
    "    if num == s:\n",
    "        print(\"The first armstrong number is- \",num)\n",
    "        break"
   ]
  },
  {
   "cell_type": "code",
   "execution_count": null,
   "metadata": {},
   "outputs": [],
   "source": []
  }
 ],
 "metadata": {
  "kernelspec": {
   "display_name": "Python 3",
   "language": "python",
   "name": "python3"
  },
  "language_info": {
   "codemirror_mode": {
    "name": "ipython",
    "version": 3
   },
   "file_extension": ".py",
   "mimetype": "text/x-python",
   "name": "python",
   "nbconvert_exporter": "python",
   "pygments_lexer": "ipython3",
   "version": "3.8.3"
  }
 },
 "nbformat": 4,
 "nbformat_minor": 4
}
