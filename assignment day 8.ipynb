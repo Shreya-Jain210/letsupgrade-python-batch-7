{
 "cells": [
  {
   "cell_type": "markdown",
   "metadata": {},
   "source": [
    "# ASSIGNMENT DAY 8"
   ]
  },
  {
   "cell_type": "markdown",
   "metadata": {},
   "source": [
    "#QUESTION 1"
   ]
  },
  {
   "cell_type": "code",
   "execution_count": 9,
   "metadata": {},
   "outputs": [
    {
     "name": "stdout",
     "output_type": "stream",
     "text": [
      "enter the number for fibonacci series\n",
      "enter4\n",
      "0\n",
      "1\n",
      "1\n",
      "2\n"
     ]
    }
   ],
   "source": [
    "def getInput(func):\n",
    "    def take_inn():\n",
    "        print(\"enter the number for fibonacci series\")\n",
    "        n=int(input(\"enter\"))\n",
    "        func(n)\n",
    "    return take_inn\n",
    "\n",
    "@getInput\n",
    "def fibonacci(n):\n",
    "    if(n<=0):\n",
    "        print(\"wrong number\")\n",
    "   \n",
    "    else:\n",
    "        n1,n2=0,1\n",
    "        count=0\n",
    "        while count < n:\n",
    "            print(n1)\n",
    "            nth = n1 + n2\n",
    "            n1 = n2\n",
    "            n2 = nth\n",
    "            count += 1\n",
    "        \n",
    "    \n",
    "    \n",
    "fibonacci()"
   ]
  },
  {
   "cell_type": "markdown",
   "metadata": {},
   "source": [
    "QUESTION 2"
   ]
  },
  {
   "cell_type": "code",
   "execution_count": 23,
   "metadata": {},
   "outputs": [
    {
     "name": "stdout",
     "output_type": "stream",
     "text": [
      "not writable\n",
      "file is in read only mode\n"
     ]
    }
   ],
   "source": [
    "try:\n",
    "    file=open(\"me.txt\",\"r\")\n",
    "    file.write(\"hi there!!\")\n",
    "    file.close()\n",
    "    print(\"success\")\n",
    "except Exception as e:\n",
    "    print(e)\n",
    "finally:\n",
    "    print(\"file is in read only mode\")\n",
    "    "
   ]
  }
 ],
 "metadata": {
  "kernelspec": {
   "display_name": "Python 3",
   "language": "python",
   "name": "python3"
  },
  "language_info": {
   "codemirror_mode": {
    "name": "ipython",
    "version": 3
   },
   "file_extension": ".py",
   "mimetype": "text/x-python",
   "name": "python",
   "nbconvert_exporter": "python",
   "pygments_lexer": "ipython3",
   "version": "3.8.3"
  }
 },
 "nbformat": 4,
 "nbformat_minor": 4
}
