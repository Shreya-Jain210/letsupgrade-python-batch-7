{
 "cells": [
  {
   "cell_type": "markdown",
   "metadata": {},
   "source": [
    "# ASSIGNMENT DAY 9"
   ]
  },
  {
   "cell_type": "markdown",
   "metadata": {},
   "source": [
    "# QUESTION 1"
   ]
  },
  {
   "cell_type": "code",
   "execution_count": 13,
   "metadata": {},
   "outputs": [
    {
     "data": {
      "text/plain": [
       "7"
      ]
     },
     "execution_count": 13,
     "metadata": {},
     "output_type": "execute_result"
    }
   ],
   "source": [
    "import sympy\n",
    "\n",
    "def checkPrimeNumber(num):\n",
    "    if sympy.isprime(num):\n",
    "        return num\n",
    "    else:\n",
    "        return(\"No Prime\")\n",
    "\n",
    "\n",
    "checkPrimeNumber(7)"
   ]
  },
  {
   "cell_type": "code",
   "execution_count": 16,
   "metadata": {},
   "outputs": [
    {
     "name": "stdout",
     "output_type": "stream",
     "text": [
      "Overwriting check_pri.py\n"
     ]
    }
   ],
   "source": [
    "%%writefile check_pri.py\n",
    "import sympy\n",
    "'''\n",
    "Module to check prime Number\n",
    "'''\n",
    "def checkPrimeNumber(num):\n",
    "    '''\n",
    "    Function to Check Prime takes a Input\n",
    "    '''\n",
    "    if sympy.isprime(num):\n",
    "        '''\n",
    "        if statement\n",
    "        '''\n",
    "        return num\n",
    "    else:\n",
    "        return \"No Prime\""
   ]
  },
  {
   "cell_type": "code",
   "execution_count": 17,
   "metadata": {},
   "outputs": [
    {
     "name": "stdout",
     "output_type": "stream",
     "text": [
      "************* Module chPrime.py\n",
      "chPrime.py:1:0: F0001: No module named chPrime.py (fatal)\n"
     ]
    }
   ],
   "source": [
    "!pylint chPrime.py"
   ]
  },
  {
   "cell_type": "code",
   "execution_count": 18,
   "metadata": {},
   "outputs": [
    {
     "name": "stdout",
     "output_type": "stream",
     "text": [
      "Writing check_prime.py\n"
     ]
    }
   ],
   "source": [
    "%%writefile check_prime.py\n",
    "import unittest \n",
    "import check_pri\n",
    "\n",
    "class TestPrime(unittest.TestCase):\n",
    "    def checkprimeNumber(self):\n",
    "        num = 7\n",
    "        result = chPrime.checkPrimeNumber(num)\n",
    "        self.assertEqual(result,num)\n",
    "\n",
    "    def checkNotPrimenumber(self):\n",
    "        num= 8\n",
    "        result = chPrime.checkPrimeNumber(num)\n",
    "        self.assertEqual(result,\"No Prime\")\n",
    "\n",
    "if __name__ == \"__main__\":\n",
    "    unittest.main()"
   ]
  },
  {
   "cell_type": "code",
   "execution_count": 19,
   "metadata": {},
   "outputs": [
    {
     "name": "stderr",
     "output_type": "stream",
     "text": [
      "\n",
      "----------------------------------------------------------------------\n",
      "Ran 0 tests in 0.000s\n",
      "\n",
      "OK\n"
     ]
    }
   ],
   "source": [
    "!python check_prime.py"
   ]
  },
  {
   "cell_type": "markdown",
   "metadata": {},
   "source": [
    "#QUESTION2"
   ]
  },
  {
   "cell_type": "code",
   "execution_count": 7,
   "metadata": {},
   "outputs": [
    {
     "data": {
      "text/plain": [
       "<generator object armstrong at 0x00000279CD54A970>"
      ]
     },
     "execution_count": 7,
     "metadata": {},
     "output_type": "execute_result"
    }
   ],
   "source": [
    "def armstrong():\n",
    "    for num in range(1,1000):\n",
    "        order=len(str(num))\n",
    "        s = 0\n",
    "        tmp = num\n",
    "        while tmp>0:\n",
    "            digit = tmp % 10\n",
    "            s += digit ** order\n",
    "            tmp //= 10\n",
    "        if num == s:\n",
    "            yield num\n",
    "           \n",
    "         \n",
    "armstrong()            "
   ]
  },
  {
   "cell_type": "code",
   "execution_count": 8,
   "metadata": {},
   "outputs": [
    {
     "data": {
      "text/plain": [
       "[1, 2, 3, 4, 5, 6, 7, 8, 9, 153, 370, 371, 407]"
      ]
     },
     "execution_count": 8,
     "metadata": {},
     "output_type": "execute_result"
    }
   ],
   "source": [
    "list(armstrong())"
   ]
  }
 ],
 "metadata": {
  "kernelspec": {
   "display_name": "Python 3",
   "language": "python",
   "name": "python3"
  },
  "language_info": {
   "codemirror_mode": {
    "name": "ipython",
    "version": 3
   },
   "file_extension": ".py",
   "mimetype": "text/x-python",
   "name": "python",
   "nbconvert_exporter": "python",
   "pygments_lexer": "ipython3",
   "version": "3.8.3"
  }
 },
 "nbformat": 4,
 "nbformat_minor": 4
}
